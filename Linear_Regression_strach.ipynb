{
  "nbformat": 4,
  "nbformat_minor": 0,
  "metadata": {
    "colab": {
      "name": "Linear Regression strach.ipynb",
      "provenance": [],
      "authorship_tag": "ABX9TyOGyQKoUlZBy7yozUH4Lq+P",
      "include_colab_link": true
    },
    "kernelspec": {
      "name": "python3",
      "display_name": "Python 3"
    }
  },
  "cells": [
    {
      "cell_type": "markdown",
      "metadata": {
        "id": "view-in-github",
        "colab_type": "text"
      },
      "source": [
        "<a href=\"https://colab.research.google.com/github/sgajendra/PRACTICE/blob/master/Linear_Regression_strach.ipynb\" target=\"_parent\"><img src=\"https://colab.research.google.com/assets/colab-badge.svg\" alt=\"Open In Colab\"/></a>"
      ]
    },
    {
      "cell_type": "markdown",
      "metadata": {
        "id": "ecYMaoOciRN2"
      },
      "source": [
        "This tutorial is broken down into five parts:\r\n",
        "\r\n",
        "Calculate Mean and Variance.\r\n",
        "\r\n",
        "Calculate Covariance.\r\n",
        "\r\n",
        "Estimate Coefficients.\r\n",
        "\r\n",
        "Make Predictions.\r\n",
        "\r\n",
        "Predict Insurance."
      ]
    },
    {
      "cell_type": "code",
      "metadata": {
        "id": "cfjkF2y-iJ1f"
      },
      "source": [
        "#Calculate the Mean\r\n",
        "\r\n",
        "def mean(values):\r\n",
        "  return sum(values)/float(len(values))"
      ],
      "execution_count": 1,
      "outputs": []
    },
    {
      "cell_type": "code",
      "metadata": {
        "id": "I1IsWy4Zi0pd"
      },
      "source": [
        "#Variance is nothing but sum of difference of each value from mean.\r\n",
        "\r\n",
        "def varience(values, mean):\r\n",
        "  return sum([(X - mean)**2 for X in values])"
      ],
      "execution_count": 2,
      "outputs": []
    },
    {
      "cell_type": "code",
      "metadata": {
        "id": "sXYMu1nLkRwI"
      },
      "source": [
        "# Co-variance of two groups of numbers describes how those numbers change together.\r\n",
        "\r\n",
        "def covarience(x, mean_x, y, mean_y):\r\n",
        "  covar = 0.0\r\n",
        "  for i in range(len(x)):\r\n",
        "    covar += (x[i] - mean_x) * (y[i] - mean_y)\r\n",
        "  return covar"
      ],
      "execution_count": 3,
      "outputs": []
    },
    {
      "cell_type": "code",
      "metadata": {
        "id": "3mSV62M5lkPi"
      },
      "source": [
        "def coefficients(dataset):\r\n",
        "  x, y = [],[]\r\n",
        "  for row in dataset:\r\n",
        "    x.append(row[0])\r\n",
        "    y.append(row[1])\r\n",
        "  x_mean, y_mean = mean(x), mean(y)\r\n",
        "  B1 = covarience(x, x_mean, y, y_mean)/varience(x, x_mean)\r\n",
        "  B0 = y_mean - B1 * x_mean\r\n",
        "  return [B0, B1]"
      ],
      "execution_count": 6,
      "outputs": []
    },
    {
      "cell_type": "code",
      "metadata": {
        "colab": {
          "base_uri": "https://localhost:8080/"
        },
        "id": "2jTcbHEKqiQ5",
        "outputId": "fcc5faae-e376-412c-f02e-9224719efd03"
      },
      "source": [
        "dataset = [[1, 1], [2, 3], [4, 3], [3, 2], [5, 5]]\r\n",
        "b0, b1 = coefficients(dataset)\r\n",
        "print('Coefficients: B0=%.3f, B1=%.3f' % (b0, b1))"
      ],
      "execution_count": 7,
      "outputs": [
        {
          "output_type": "stream",
          "text": [
            "Coefficients: B0=0.400, B1=0.800\n"
          ],
          "name": "stdout"
        }
      ]
    },
    {
      "cell_type": "code",
      "metadata": {
        "id": "V2AT3zefqqHK"
      },
      "source": [
        "\r\n",
        "def simple_linear_regression(train, test):\r\n",
        "\tpredictions = list()\r\n",
        "\tb0, b1 = coefficients(train)\r\n",
        "\tfor row in test:\r\n",
        "\t\tyhat = b0 + b1 * row[0]\r\n",
        "\t\tpredictions.append(yhat)\r\n",
        "\treturn predictions"
      ],
      "execution_count": 8,
      "outputs": []
    },
    {
      "cell_type": "code",
      "metadata": {
        "id": "tGROxsEerMj8"
      },
      "source": [
        "from math import sqrt\r\n",
        "\r\n",
        "def rmse_metric(actual, predicted):\r\n",
        "  sum_error = 0.0\r\n",
        "  for i in range(len(actual)):\r\n",
        "    sum_error += ((actual[i] - predicted[i])**2)\r\n",
        "  mse = sum_error/float(len(actual))\r\n",
        "  rmse = sqrt(mse)\r\n",
        "  return rmse"
      ],
      "execution_count": 19,
      "outputs": []
    },
    {
      "cell_type": "code",
      "metadata": {
        "id": "_puceKz3tJyf"
      },
      "source": [
        "def evaluate_algorithm(dataset, algorithm):\r\n",
        "  test_set = list()\r\n",
        "  for row in dataset:\r\n",
        "    row_copy = list(row)\r\n",
        "    row_copy[-1] = None\r\n",
        "    test_set.append(row_copy)\r\n",
        "  predicted = algorithm(dataset, test_set)\r\n",
        "  print(predicted)\r\n",
        "  actual = [row[-1] for row in dataset]\r\n",
        "  rmse = rmse_metric(actual, predicted)\r\n",
        "  return rmse"
      ],
      "execution_count": 15,
      "outputs": []
    },
    {
      "cell_type": "code",
      "metadata": {
        "colab": {
          "base_uri": "https://localhost:8080/"
        },
        "id": "t043uH7JuS5l",
        "outputId": "b1c9fb0d-f887-4970-b748-788d48addf2c"
      },
      "source": [
        "# Test simple linear regression\r\n",
        "dataset = [[1, 1], [2, 3], [4, 3], [3, 2], [5, 5]]\r\n",
        "rmse = evaluate_algorithm(dataset, simple_linear_regression)\r\n",
        "print('RMSE: %.3f' % (rmse))"
      ],
      "execution_count": 20,
      "outputs": [
        {
          "output_type": "stream",
          "text": [
            "[1.1999999999999995, 1.9999999999999996, 3.5999999999999996, 2.8, 4.3999999999999995]\n",
            "RMSE: 0.693\n"
          ],
          "name": "stdout"
        }
      ]
    },
    {
      "cell_type": "code",
      "metadata": {
        "id": "GlVbxIM2uVoS"
      },
      "source": [
        "# Simple Linear Regression on the Swedish Insurance Dataset\r\n",
        "from random import seed\r\n",
        "from random import randrange\r\n",
        "from csv import reader\r\n",
        "from math import sqrt\r\n",
        "\r\n",
        "# Load a CSV file\r\n",
        "def load_csv(filename):\r\n",
        "\tdataset = list()\r\n",
        "\twith open(filename, 'r') as file:\r\n",
        "\t\tcsv_reader = reader(file)\r\n",
        "\t\tfor row in csv_reader:\r\n",
        "\t\t\tif not row:\r\n",
        "\t\t\t\tcontinue\r\n",
        "\t\t\tdataset.append(row)\r\n",
        "\treturn dataset\r\n",
        "\r\n",
        "# Convert string column to float\r\n",
        "def str_column_to_float(dataset, column):\r\n",
        "\tfor row in dataset:\r\n",
        "\t\trow[column] = float(row[column].strip())\r\n",
        "\r\n",
        "# Split a dataset into a train and test set\r\n",
        "def train_test_split(dataset, split):\r\n",
        "\ttrain = list()\r\n",
        "\ttrain_size = split * len(dataset)\r\n",
        "\tdataset_copy = list(dataset)\r\n",
        "\twhile len(train) < train_size:\r\n",
        "\t\tindex = randrange(len(dataset_copy))\r\n",
        "\t\ttrain.append(dataset_copy.pop(index))\r\n",
        "\treturn train, dataset_copy"
      ],
      "execution_count": 21,
      "outputs": []
    },
    {
      "cell_type": "code",
      "metadata": {
        "colab": {
          "base_uri": "https://localhost:8080/",
          "height": 346
        },
        "id": "7W5qD381xPkE",
        "outputId": "22a82450-7f1d-4971-f365-c88d4a5231d7"
      },
      "source": [
        "# Simple linear regression on insurance dataset\r\n",
        "seed(1)\r\n",
        "# load and prepare data\r\n",
        "filename = 'insurance.csv'\r\n",
        "dataset = load_csv(filename)\r\n",
        "for i in range(len(dataset[0])):\r\n",
        "\tstr_column_to_float(dataset, i)\r\n",
        "# evaluate algorithm\r\n",
        "split = 0.6\r\n",
        "rmse = evaluate_algorithm(dataset, simple_linear_regression, split)\r\n",
        "print('RMSE: %.3f' % (rmse))"
      ],
      "execution_count": 22,
      "outputs": [
        {
          "output_type": "error",
          "ename": "FileNotFoundError",
          "evalue": "ignored",
          "traceback": [
            "\u001b[0;31m---------------------------------------------------------------------------\u001b[0m",
            "\u001b[0;31mFileNotFoundError\u001b[0m                         Traceback (most recent call last)",
            "\u001b[0;32m<ipython-input-22-c646c0eebd94>\u001b[0m in \u001b[0;36m<module>\u001b[0;34m()\u001b[0m\n\u001b[1;32m      3\u001b[0m \u001b[0;31m# load and prepare data\u001b[0m\u001b[0;34m\u001b[0m\u001b[0;34m\u001b[0m\u001b[0;34m\u001b[0m\u001b[0m\n\u001b[1;32m      4\u001b[0m \u001b[0mfilename\u001b[0m \u001b[0;34m=\u001b[0m \u001b[0;34m'insurance.csv'\u001b[0m\u001b[0;34m\u001b[0m\u001b[0;34m\u001b[0m\u001b[0m\n\u001b[0;32m----> 5\u001b[0;31m \u001b[0mdataset\u001b[0m \u001b[0;34m=\u001b[0m \u001b[0mload_csv\u001b[0m\u001b[0;34m(\u001b[0m\u001b[0mfilename\u001b[0m\u001b[0;34m)\u001b[0m\u001b[0;34m\u001b[0m\u001b[0;34m\u001b[0m\u001b[0m\n\u001b[0m\u001b[1;32m      6\u001b[0m \u001b[0;32mfor\u001b[0m \u001b[0mi\u001b[0m \u001b[0;32min\u001b[0m \u001b[0mrange\u001b[0m\u001b[0;34m(\u001b[0m\u001b[0mlen\u001b[0m\u001b[0;34m(\u001b[0m\u001b[0mdataset\u001b[0m\u001b[0;34m[\u001b[0m\u001b[0;36m0\u001b[0m\u001b[0;34m]\u001b[0m\u001b[0;34m)\u001b[0m\u001b[0;34m)\u001b[0m\u001b[0;34m:\u001b[0m\u001b[0;34m\u001b[0m\u001b[0;34m\u001b[0m\u001b[0m\n\u001b[1;32m      7\u001b[0m         \u001b[0mstr_column_to_float\u001b[0m\u001b[0;34m(\u001b[0m\u001b[0mdataset\u001b[0m\u001b[0;34m,\u001b[0m \u001b[0mi\u001b[0m\u001b[0;34m)\u001b[0m\u001b[0;34m\u001b[0m\u001b[0;34m\u001b[0m\u001b[0m\n",
            "\u001b[0;32m<ipython-input-21-f04a95c768da>\u001b[0m in \u001b[0;36mload_csv\u001b[0;34m(filename)\u001b[0m\n\u001b[1;32m      8\u001b[0m \u001b[0;32mdef\u001b[0m \u001b[0mload_csv\u001b[0m\u001b[0;34m(\u001b[0m\u001b[0mfilename\u001b[0m\u001b[0;34m)\u001b[0m\u001b[0;34m:\u001b[0m\u001b[0;34m\u001b[0m\u001b[0;34m\u001b[0m\u001b[0m\n\u001b[1;32m      9\u001b[0m         \u001b[0mdataset\u001b[0m \u001b[0;34m=\u001b[0m \u001b[0mlist\u001b[0m\u001b[0;34m(\u001b[0m\u001b[0;34m)\u001b[0m\u001b[0;34m\u001b[0m\u001b[0;34m\u001b[0m\u001b[0m\n\u001b[0;32m---> 10\u001b[0;31m         \u001b[0;32mwith\u001b[0m \u001b[0mopen\u001b[0m\u001b[0;34m(\u001b[0m\u001b[0mfilename\u001b[0m\u001b[0;34m,\u001b[0m \u001b[0;34m'r'\u001b[0m\u001b[0;34m)\u001b[0m \u001b[0;32mas\u001b[0m \u001b[0mfile\u001b[0m\u001b[0;34m:\u001b[0m\u001b[0;34m\u001b[0m\u001b[0;34m\u001b[0m\u001b[0m\n\u001b[0m\u001b[1;32m     11\u001b[0m                 \u001b[0mcsv_reader\u001b[0m \u001b[0;34m=\u001b[0m \u001b[0mreader\u001b[0m\u001b[0;34m(\u001b[0m\u001b[0mfile\u001b[0m\u001b[0;34m)\u001b[0m\u001b[0;34m\u001b[0m\u001b[0;34m\u001b[0m\u001b[0m\n\u001b[1;32m     12\u001b[0m                 \u001b[0;32mfor\u001b[0m \u001b[0mrow\u001b[0m \u001b[0;32min\u001b[0m \u001b[0mcsv_reader\u001b[0m\u001b[0;34m:\u001b[0m\u001b[0;34m\u001b[0m\u001b[0;34m\u001b[0m\u001b[0m\n",
            "\u001b[0;31mFileNotFoundError\u001b[0m: [Errno 2] No such file or directory: 'insurance.csv'"
          ]
        }
      ]
    },
    {
      "cell_type": "code",
      "metadata": {
        "id": "XplGsF8GxV5j"
      },
      "source": [
        ""
      ],
      "execution_count": null,
      "outputs": []
    }
  ]
}